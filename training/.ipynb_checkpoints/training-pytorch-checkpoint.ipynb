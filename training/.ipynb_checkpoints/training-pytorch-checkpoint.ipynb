{
 "cells": [
  {
   "cell_type": "code",
   "execution_count": 19,
   "id": "0fac5a2c",
   "metadata": {},
   "outputs": [],
   "source": [
    "import pandas as pd\n",
    "import boto3\n",
    "import sagemaker\n",
    "import json\n",
    "import numpy as np\n",
    "import os\n",
    "import pickle"
   ]
  },
  {
   "cell_type": "code",
   "execution_count": 20,
   "id": "6841893f",
   "metadata": {},
   "outputs": [],
   "source": [
    "# session and role\n",
    "sagemaker_session = sagemaker.Session()\n",
    "role = sagemaker.get_execution_role()\n",
    "\n",
    "# name of S3 bucket and directory of data contained\n",
    "bucket = 'sagemaker-us-east-1-539912551364'\n",
    "prefix = 'retail_trading'\n",
    "\n",
    "# connect to S3\n",
    "conn = boto3.client('s3')"
   ]
  },
  {
   "cell_type": "code",
   "execution_count": 21,
   "id": "11fb5c84",
   "metadata": {},
   "outputs": [],
   "source": [
    "# Load map from transitions to posts and post text data\n",
    "def load_post_mappings():\n",
    "    trailing_days = [3, 5, 10]\n",
    "    \n",
    "    train_mappings = dict()\n",
    "    test_mappings = dict()\n",
    "    \n",
    "    for day in trailing_days:\n",
    "        train_response = conn.get_object(Bucket=bucket, Key='{}-day-example-map-train.json'.format(day))\n",
    "        test_response = conn.get_object(Bucket=bucket, Key='{}-day-example-map-test.json'.format(day))\n",
    "        \n",
    "        train_mappings[day] = json.load(train_response['Body'])\n",
    "        test_mappings[day] = json.load(test_response['Body'])\n",
    "        \n",
    "    return train_mappings, test_mappings\n",
    "\n",
    "def load_posts():\n",
    "    # expanded df maps tickers to comments containing them\n",
    "    expanded_response = conn.get_object(Bucket=bucket, Key='expanded cleaned posts.csv')\n",
    "    expanded_df = pd.read_csv(expanded_response['Body'], index_col=[0])\n",
    "    \n",
    "    # compressed dfs contain cleaned text that can be related to train/test mappings with hash keys\n",
    "    test_X_response = conn.get_object(Bucket=bucket, Key='compressed_test_X_df.csv')\n",
    "    test_X_df = pd.read_csv(test_X_response['Body'], index_col=[0])\n",
    "    test_X_df['text'] = test_X_df['text'].astype(str)\n",
    "    \n",
    "    train_X_response = conn.get_object(Bucket=bucket, Key='compressed_train_X_df.csv')\n",
    "    train_X_df = pd.read_csv(train_X_response['Body'], index_col=[0])\n",
    "    train_X_df['text'] = train_X_df['text'].astype(str)\n",
    "    \n",
    "    return expanded_df, test_X_df, train_X_df\n",
    "\n",
    "train_mappings, test_mappings = load_post_mappings()\n",
    "expanded_df, test_X_df, train_X_df = load_posts()\n",
    "\n",
    "assert train_mappings[3][0]['target_samples'] in train_X_df.text_hash.values\n",
    "assert train_mappings[3][0]['random_samples'][0] in train_X_df.text_hash.values\n",
    "assert test_mappings[3][0]['target_samples'] in test_X_df.text_hash.values\n",
    "assert test_mappings[3][0]['random_samples'][0] in test_X_df.text_hash.values"
   ]
  },
  {
   "cell_type": "code",
   "execution_count": 22,
   "id": "a211dcfc",
   "metadata": {},
   "outputs": [],
   "source": [
    "def build_dict(data, vocab_size = 5000):\n",
    "    \"\"\"\n",
    "    As in the course project, we'll construct a dictionary mapping of the most frequently appearing\n",
    "    words to a unique integer. Once again, we'll reserve entries for the 'no-word' and 'infrequent'\n",
    "    labels.\n",
    "    \"\"\"\n",
    "    \n",
    "    # Determine how often each word appears in `data`.\n",
    "    word_count = {}\n",
    "    for post in data:\n",
    "        for word in post.split():\n",
    "            \n",
    "            if word in word_count.keys():\n",
    "                word_count[word] += 1\n",
    "            else:\n",
    "                word_count[word] = 1\n",
    "    \n",
    "    # Sort the words found in `data` so that sorted_words[0] is the most frequently appearing word and\n",
    "    # sorted_words[-1] is the least frequently appearing word.\n",
    "    sorted_words = sorted(list(word_count.keys()), \n",
    "                          key = lambda x: word_count[x],\n",
    "                          reverse = True)\n",
    "    \n",
    "    word_dict = {} # This is what we are building, a dictionary that translates words into integers\n",
    "    for idx, word in enumerate(sorted_words[:vocab_size - 2]): # The -2 is so that we save room for the 'no word'\n",
    "        word_dict[word] = idx + 2                              # 'infrequent' labels\n",
    "        \n",
    "    return word_dict\n",
    "\n",
    "# Only use posts from the training dataset \n",
    "word_dict = build_dict(train_X_df.text.values)"
   ]
  },
  {
   "cell_type": "code",
   "execution_count": 23,
   "id": "714e95e1",
   "metadata": {},
   "outputs": [
    {
     "name": "stdout",
     "output_type": "stream",
     "text": [
      "Rank: 1 Word: earn\n",
      "Rank: 2 Word: call\n",
      "Rank: 3 Word: stock\n",
      "Rank: 4 Word: buy\n",
      "Rank: 5 Word: go\n",
      "Rank: 6 Word: like\n",
      "Rank: 7 Word: market\n",
      "Rank: 8 Word: trade\n",
      "Rank: 9 Word: put\n",
      "Rank: 10 Word: get\n"
     ]
    }
   ],
   "source": [
    "# Print the top ten words by frequency rank - looks pretty good!\n",
    "rank_to_word = {rank: word for word, rank in word_dict.items()}\n",
    "for rank in range(1, 11):\n",
    "    key = rank + 1\n",
    "    print('Rank: {} Word: {}'.format(rank, rank_to_word[key]))"
   ]
  },
  {
   "cell_type": "code",
   "execution_count": 24,
   "id": "038c5b5d",
   "metadata": {},
   "outputs": [],
   "source": [
    "# Save word dict \n",
    "data_dir = '../data/final-project'\n",
    "if not os.path.exists(data_dir):\n",
    "    os.makedirs(data_dir)\n",
    "    \n",
    "with open(os.path.join(data_dir, 'word_dict.pkl'), \"wb\") as f:\n",
    "    pickle.dump(word_dict, f)"
   ]
  },
  {
   "cell_type": "code",
   "execution_count": 25,
   "id": "050b1dee",
   "metadata": {},
   "outputs": [
    {
     "name": "stdout",
     "output_type": "stream",
     "text": [
      "Converting Examples For Lag 3:\n",
      "Test Set...\n",
      "Number skipped due to repeats: 12\n",
      "Train Set...\n",
      "Number skipped due to repeats: 68\n",
      "Converting Examples For Lag 5:\n",
      "Test Set...\n",
      "Number skipped due to repeats: 2\n",
      "Train Set...\n",
      "Number skipped due to repeats: 67\n",
      "Converting Examples For Lag 10:\n",
      "Test Set...\n",
      "Number skipped due to repeats: 7\n",
      "Train Set...\n",
      "Number skipped due to repeats: 43\n"
     ]
    }
   ],
   "source": [
    "def convert_and_pad(word_dict, post, pad=500):\n",
    "    NOWORD = 0 # We will use 0 to represent the 'no word' category\n",
    "    INFREQ = 1 # and we use 1 to represent the infrequent words, i.e., words not appearing in word_dict\n",
    "    \n",
    "    working_post = [NOWORD] * pad\n",
    "    split_post = post.split()\n",
    "    for word_index, word in enumerate(split_post[:pad]):\n",
    "        if word in word_dict:\n",
    "            working_post[word_index] = word_dict[word]\n",
    "        else:\n",
    "            working_post[word_index] = INFREQ\n",
    "            \n",
    "    return working_post, min(len(split_post), pad)\n",
    "\n",
    "def convert_and_pad_data(word_dict, post_mappings, text_df, pad=500):\n",
    "    compound_text = []\n",
    "    transition = []\n",
    "    lengths = []\n",
    "    idxs = []\n",
    "    nskipped = 0\n",
    "    \n",
    "    for idx, mapping in enumerate(post_mappings):\n",
    "        if len(set(mapping['random_samples'])) < 3:\n",
    "            # This is hackey but it looks like I forgot to make sure the example\n",
    "            # sampling procedure sampled withouth replacement\n",
    "            nskipped += 1\n",
    "            continue\n",
    "        \n",
    "        target_post = text_df.loc[text_df['text_hash'] == mapping['target_samples'], 'text'].values\n",
    "        random_posts = text_df.loc[text_df['text_hash'].isin(mapping['random_samples']), 'text'].values\n",
    "        \n",
    "        converted_target, leng = convert_and_pad(word_dict, target_post[0], pad)\n",
    "        converted_random, lengs = zip(*[convert_and_pad(word_dict, post, pad) for post in random_posts])\n",
    "        \n",
    "        compound_text.append(np.concatenate([converted_target] + list(converted_random)).reshape(1, -1))\n",
    "        transition.append(int(mapping['transition']))\n",
    "        lengths.append([leng] + list(lengs))\n",
    "        idxs.append(idx)\n",
    "        \n",
    "    print(\"Number skipped due to repeats: {}\".format(nskipped))\n",
    "    return {\n",
    "        'X': np.vstack(compound_text),\n",
    "        'y': np.array(transition),\n",
    "        'length': np.array(lengths),\n",
    "        'index': np.array(idxs)\n",
    "    }\n",
    "\n",
    "train_data = dict()\n",
    "test_data = dict()\n",
    "for lag in [3, 5, 10]:\n",
    "    print('Converting Examples For Lag {}:'.format(lag))\n",
    "    print('Test Set...')\n",
    "    test_data[lag] = convert_and_pad_data(word_dict, test_mappings[lag], test_X_df)\n",
    "    print('Train Set...')\n",
    "    train_data[lag] = convert_and_pad_data(word_dict, train_mappings[lag], train_X_df)\n",
    "\n"
   ]
  },
  {
   "cell_type": "code",
   "execution_count": 28,
   "id": "1ab5587d",
   "metadata": {},
   "outputs": [],
   "source": [
    "# Upload the data to S3    \n",
    "\n",
    "for lag in [3, 5, 10]:\n",
    "    (\n",
    "        pd.concat([pd.DataFrame(train_data[lag]['y']),\n",
    "                   pd.DataFrame(train_data[lag]['length']),\n",
    "                   pd.DataFrame(train_data[lag]['X'])], \n",
    "                  axis = 1)\n",
    "        .to_csv(os.path.join(data_dir, 'lag_{}_train.csv'.format(lag)),\n",
    "                header = False,\n",
    "                index = False)\n",
    "    )\n",
    "    (\n",
    "        pd.concat([pd.DataFrame(test_data[lag]['y']),\n",
    "                   pd.DataFrame(test_data[lag]['length']),\n",
    "                   pd.DataFrame(test_data[lag]['X'])], \n",
    "                  axis = 1)\n",
    "        .to_csv(os.path.join(data_dir, 'lag_{}_test.csv'.format(lag)),\n",
    "                header = False,\n",
    "                index = False)\n",
    "    )\n",
    "    "
   ]
  },
  {
   "cell_type": "code",
   "execution_count": 29,
   "id": "c068fbfc",
   "metadata": {},
   "outputs": [],
   "source": [
    "prefix = 'sagemaker/sentiment_rnn'\n",
    "data_dir = '../data/final-project'\n",
    "input_data = sagemaker_session.upload_data(path=data_dir, bucket=bucket, key_prefix=prefix)"
   ]
  },
  {
   "cell_type": "code",
   "execution_count": 30,
   "id": "7973db2c",
   "metadata": {},
   "outputs": [],
   "source": [
    "import torch\n",
    "import torch.utils.data\n",
    "import torch.optim as optim\n",
    "from source_pytorch.model import LSTMClassifier\n",
    "\n",
    "# Read in only the first 250 rows\n",
    "train_sample = pd.read_csv(os.path.join(data_dir, 'lag_{}_train.csv'.format(3)), header=None, names=None, nrows=250)\n",
    "\n",
    "# Turn the input pandas dataframe into tensors\n",
    "train_sample_y = torch.from_numpy(train_sample[[0]].values).float().squeeze()\n",
    "train_sample_X = torch.from_numpy(train_sample.drop([0], axis=1).values).long()\n",
    "\n",
    "# Build the dataset\n",
    "train_sample_ds = torch.utils.data.TensorDataset(train_sample_X, train_sample_y)\n",
    "# Build the dataloader\n",
    "train_sample_dl = torch.utils.data.DataLoader(train_sample_ds, batch_size=50)"
   ]
  },
  {
   "cell_type": "code",
   "execution_count": 31,
   "id": "4161157d",
   "metadata": {},
   "outputs": [
    {
     "name": "stdout",
     "output_type": "stream",
     "text": [
      "Epoch: 1, BCELoss: 0.7249017238616944\n",
      "Epoch: 2, BCELoss: 0.7220113515853882\n",
      "Epoch: 3, BCELoss: 0.7192718625068665\n",
      "Epoch: 4, BCELoss: 0.7163714051246644\n",
      "Epoch: 5, BCELoss: 0.7127821922302247\n"
     ]
    }
   ],
   "source": [
    "# write the training method\n",
    "def train(model, train_loader, epochs, optimizer, loss_fn, device):\n",
    "    for epoch in range(1, epochs + 1):\n",
    "        model.train()\n",
    "        total_loss = 0\n",
    "        for batch in train_loader:         \n",
    "            batch_X, batch_y = batch\n",
    "            \n",
    "            batch_X = batch_X.to(device)\n",
    "            batch_y = batch_y.to(device)\n",
    "            \n",
    "            optimizer.zero_grad()\n",
    "            \n",
    "            predict_y = model(batch_X)\n",
    "            \n",
    "            if torch.any(torch.isnan(predict_y)):\n",
    "                print(batch_X)\n",
    "                print(predict_y)\n",
    "            \n",
    "            loss = loss_fn(predict_y, batch_y)\n",
    "            \n",
    "            loss.backward()\n",
    "            optimizer.step()\n",
    "            \n",
    "            total_loss += loss.data.item()\n",
    "        print(\"Epoch: {}, BCELoss: {}\".format(epoch, total_loss / len(train_loader)))\n",
    "\n",
    "\n",
    "device = torch.device(\"cuda\" if torch.cuda.is_available() else \"cpu\")\n",
    "model = LSTMClassifier(32, 100, 5000).to(device)\n",
    "optimizer = optim.Adam(model.parameters())\n",
    "loss_fn = torch.nn.BCELoss()\n",
    "\n",
    "train(model, train_sample_dl, 5, optimizer, loss_fn, device)"
   ]
  },
  {
   "cell_type": "code",
   "execution_count": 32,
   "id": "c3bcfa9b",
   "metadata": {},
   "outputs": [],
   "source": [
    "from sagemaker.pytorch import PyTorch, PyTorchModel\n",
    "\n",
    "\n",
    "def make_estimator(lag, epochs=20, hidden_dim=200):\n",
    "    estimator = PyTorch(entry_point=\"train.py\",\n",
    "                        source_dir=\"source_pytorch\",\n",
    "                        role=role,\n",
    "                        framework_version='0.4.0',\n",
    "                        py_version='py3',\n",
    "                        instance_count=1,\n",
    "                        instance_type='ml.p2.xlarge',\n",
    "                        hyperparameters={\n",
    "                            'epochs': epochs,\n",
    "                            'hidden_dim': hidden_dim, \n",
    "                            'lag': lag\n",
    "                        })\n",
    "    estimator.fit({'training': input_data})\n",
    "    return estimator\n",
    "\n",
    "def get_estimator(model_data):\n",
    "    model = PyTorchModel(model_data=model_data,\n",
    "                         role = role,\n",
    "                         framework_version='0.4.0',\n",
    "                         py_version='py3',\n",
    "                         entry_point='train.py',\n",
    "                         source_dir='source_pytorch')\n",
    "    return model\n",
    "    \n",
    "\n",
    "mode = 'load_previous'\n",
    "s3_bucket = 's3://sagemaker-us-east-1-539912551364'\n",
    "suffix = 'output/model.tar.gz'\n",
    "trained_estimator_names = {\n",
    "    3: 'sagemaker-pytorch-2021-11-02-14-31-51-162',\n",
    "    5: 'sagemaker-pytorch-2021-11-02-14-38-31-911',\n",
    "    10: 'sagemaker-pytorch-2021-11-02-14-45-16-828'\n",
    "}\n",
    "\n",
    "if mode == 'train_new':\n",
    "\n",
    "    estimators = list(map(lambda lag: make_estimator(lag, 30, 200), [3, 5, 10]))\n",
    "\n",
    "elif mode == 'fit_hparam':\n",
    "    \n",
    "    rerun = False\n",
    "    lags = [3, 3, 3, 3, 3, 3, 3, 3, 3]\n",
    "    epochs = [10, 10, 10, 20, 20, 20, 30, 30, 30]\n",
    "    dims = [50, 100, 200, 50, 100, 200, 50, 100, 200]\n",
    "\n",
    "    if rerun:\n",
    "        \n",
    "        estimators = list(make_estimator, lags, epochs, dims)\n",
    "    \n",
    "    else:\n",
    "        \n",
    "        hparam_tests = [\n",
    "            'sagemaker-pytorch-2021-10-29-21-13-34-948',\n",
    "            'sagemaker-pytorch-2021-10-29-21-18-48-747',\n",
    "            'sagemaker-pytorch-2021-10-29-21-24-12-590',\n",
    "            'sagemaker-pytorch-2021-10-29-21-30-27-427',\n",
    "            'sagemaker-pytorch-2021-10-29-21-37-12-302',\n",
    "            'sagemaker-pytorch-2021-10-29-21-42-56-408',\n",
    "            'sagemaker-pytorch-2021-10-29-21-49-11-131',\n",
    "            'sagemaker-pytorch-2021-10-29-21-54-39-141',\n",
    "            'sagemaker-pytorch-2021-10-29-22-01-12-874'\n",
    "        ]\n",
    "        estimators = [get_estimator(f\"{s3_bucket}/{model_data}/{suffix}\") for model_data in hparam_tests]\n",
    "\n",
    "elif mode == 'load_previous':\n",
    "    estimator_data = {lag: '{0:s}/{1:s}/{2:s}'.format(s3_bucket, est, suffix) \n",
    "                      for lag, est in trained_estimator_names.items()}\n",
    "    estimators = {lag: get_estimator(model_data) for lag, model_data in estimator_data.items()}\n",
    "    "
   ]
  },
  {
   "cell_type": "code",
   "execution_count": 33,
   "id": "116251a5",
   "metadata": {},
   "outputs": [],
   "source": [
    "from sklearn.metrics import accuracy_score, recall_score, precision_score\n",
    "import matplotlib.pyplot as plt\n",
    "from sklearn.metrics import  roc_curve, RocCurveDisplay, roc_auc_score\n",
    "%matplotlib inline\n",
    "# precision - relevant instances per retrieved instances\n",
    "# recall - fraction of relevant instances that were retrieved \n",
    "\n",
    "\n",
    "def predict(data, predictor, rows=512):\n",
    "    split_array = np.array_split(data, int(data.shape[0] / float(rows) + 1))\n",
    "    predictions = np.array([])\n",
    "    for array in split_array:\n",
    "        predictions = np.append(predictions, predictor.predict(array))\n",
    "    \n",
    "    return predictions\n",
    "\n",
    "def get_metrics(obs, pred):\n",
    "    \n",
    "    accuracy = accuracy_score(obs, pred)\n",
    "    precision = precision_score(obs, pred)\n",
    "    recall = recall_score(obs, pred)\n",
    "    \n",
    "    print(f'Accuracy: {accuracy}\\nPrecision: {precision}\\nRecall: {recall}')\n",
    "    \n",
    "          \n",
    "def evaluate_lag(lag, test_data, predictor, show_roc=True):\n",
    "    print(f'Evaluating Lag = {lag}')\n",
    "    test_X = pd.concat([pd.DataFrame(test_data[lag]['length']), pd.DataFrame(test_data[lag]['X'])], axis=1)\n",
    "    test_y = test_data[lag]['y']\n",
    "    \n",
    "    prediction_probs = predict(test_X.values, predictor)\n",
    "    predictions = [round(num) for num in prediction_probs]\n",
    "    \n",
    "    print('Benchmark Performance')\n",
    "    get_metrics(test_y, np.zeros_like(test_y))\n",
    "    print('NN Performance')\n",
    "    get_metrics(test_y, predictions)\n",
    "\n",
    "    if show_roc:\n",
    "        fpr, tpr, _ = roc_curve(test_y, prediction_probs, pos_label=1)\n",
    "        roc_display = RocCurveDisplay(fpr=fpr, tpr=tpr).plot()\n",
    "        print('ROC AUC Score: {0:}'.format(roc_auc_score(test_y, prediction_probs)))"
   ]
  },
  {
   "cell_type": "code",
   "execution_count": 34,
   "id": "e436b691",
   "metadata": {},
   "outputs": [
    {
     "name": "stdout",
     "output_type": "stream",
     "text": [
      "-------!Evaluating Lag = 3\n",
      "Benchmark Performance\n",
      "Accuracy: 0.9361702127659575\n",
      "Precision: 0.0\n",
      "Recall: 0.0\n",
      "NN Performance\n",
      "Accuracy: 0.5106382978723404\n",
      "Precision: 0.058823529411764705\n",
      "Recall: 0.4444444444444444\n",
      "ROC AUC Score: 0.4259259259259259\n"
     ]
    },
    {
     "name": "stderr",
     "output_type": "stream",
     "text": [
      "/home/ec2-user/anaconda3/envs/pytorch_p36/lib/python3.6/site-packages/sklearn/metrics/_classification.py:1248: UndefinedMetricWarning: Precision is ill-defined and being set to 0.0 due to no predicted samples. Use `zero_division` parameter to control this behavior.\n",
      "  _warn_prf(average, modifier, msg_start, len(result))\n"
     ]
    },
    {
     "name": "stdout",
     "output_type": "stream",
     "text": [
      "----------!Evaluating Lag = 5\n",
      "Benchmark Performance\n",
      "Accuracy: 0.9378238341968912\n",
      "Precision: 0.0\n",
      "Recall: 0.0\n",
      "NN Performance\n",
      "Accuracy: 0.6424870466321243\n",
      "Precision: 0.12\n",
      "Recall: 0.75\n",
      "ROC AUC Score: 0.7076427255985267\n"
     ]
    },
    {
     "name": "stderr",
     "output_type": "stream",
     "text": [
      "/home/ec2-user/anaconda3/envs/pytorch_p36/lib/python3.6/site-packages/sklearn/metrics/_classification.py:1248: UndefinedMetricWarning: Precision is ill-defined and being set to 0.0 due to no predicted samples. Use `zero_division` parameter to control this behavior.\n",
      "  _warn_prf(average, modifier, msg_start, len(result))\n"
     ]
    },
    {
     "name": "stdout",
     "output_type": "stream",
     "text": [
      "------!Evaluating Lag = 10\n",
      "Benchmark Performance\n",
      "Accuracy: 0.926056338028169\n",
      "Precision: 0.0\n",
      "Recall: 0.0\n",
      "NN Performance\n",
      "Accuracy: 0.721830985915493\n",
      "Precision: 0.09722222222222222\n",
      "Recall: 0.3333333333333333\n",
      "ROC AUC Score: 0.5707948578671013\n"
     ]
    },
    {
     "name": "stderr",
     "output_type": "stream",
     "text": [
      "/home/ec2-user/anaconda3/envs/pytorch_p36/lib/python3.6/site-packages/sklearn/metrics/_classification.py:1248: UndefinedMetricWarning: Precision is ill-defined and being set to 0.0 due to no predicted samples. Use `zero_division` parameter to control this behavior.\n",
      "  _warn_prf(average, modifier, msg_start, len(result))\n"
     ]
    },
    {
     "data": {
      "image/png": "[encoded data removed]",
      "text/plain": [
       "<Figure size 432x288 with 1 Axes>"
      ]
     },
     "metadata": {
      "needs_background": "light"
     },
     "output_type": "display_data"
    },
    {
     "data": {
      "image/png": "[encoded data removed]",
      "text/plain": [
       "<Figure size 432x288 with 1 Axes>"
      ]
     },
     "metadata": {
      "needs_background": "light"
     },
     "output_type": "display_data"
    },
    {
     "data": {
      "image/png": "[encoded data removed]",
      "text/plain": [
       "<Figure size 432x288 with 1 Axes>"
      ]
     },
     "metadata": {
      "needs_background": "light"
     },
     "output_type": "display_data"
    }
   ],
   "source": [
    "\n",
    "\n",
    "# TODO: Deploy each of the trained models for test-set evaluation\n",
    "# predictors = [est.deploy(initial_instant_count=1, instance_type='ml.m4.xlarge') \n",
    "#               for est in estimators]\n",
    "\n",
    "if mode == 'fit_hparam':\n",
    "    \n",
    "    for i, estimator in enumerate(estimators):\n",
    "        predictor = estimator.deploy(initial_instance_count=1,\n",
    "                                     instance_type='ml.m4.xlarge')\n",
    "        try:\n",
    "            print(f\"Epochs: {epochs[i]}; Dims: {dims[i]}\")\n",
    "            evaluate_lag(lag, test_data, predictor)\n",
    "            predictor.delete_endpoint()\n",
    "        except Exception as e:\n",
    "            predictor.delete_endpoint()\n",
    "            raise e\n",
    "        \n",
    "else:\n",
    "\n",
    "    predictor_3 = estimators[3].deploy(initial_instance_count=1,\n",
    "                                       instance_type='ml.m4.xlarge')\n",
    "    evaluate_lag(3, test_data, predictor_3)\n",
    "    predictor_3.delete_endpoint()\n",
    "    \n",
    "    predictor_5 = estimators[5].deploy(initial_instance_count=1,\n",
    "                                       instance_type='ml.m4.xlarge')\n",
    "    evaluate_lag(5, test_data, predictor_5)\n",
    "    predictor_5.delete_endpoint()\n",
    "    \n",
    "    predictor_10 = estimators[10].deploy(initial_instance_count=1,\n",
    "                                         instance_type='ml.m4.xlarge')\n",
    "    evaluate_lag(10, test_data, predictor_10)\n",
    "    predictor_10.delete_endpoint()"
   ]
  },
  {
   "cell_type": "code",
   "execution_count": 16,
   "id": "d5936319",
   "metadata": {},
   "outputs": [
    {
     "name": "stdout",
     "output_type": "stream",
     "text": [
      "Evaluating Lag = 3\n",
      "Benchmark Performance\n",
      "Accuracy: 0.9361702127659575\n",
      "Precision: 0.0\n",
      "Recall: 0.0\n",
      "NN Performance\n",
      "Accuracy: 0.5531914893617021\n",
      "Precision: 0.09090909090909091\n",
      "Recall: 0.6666666666666666\n"
     ]
    },
    {
     "name": "stderr",
     "output_type": "stream",
     "text": [
      "/home/ec2-user/anaconda3/envs/pytorch_p36/lib/python3.6/site-packages/sklearn/metrics/_classification.py:1248: UndefinedMetricWarning: Precision is ill-defined and being set to 0.0 due to no predicted samples. Use `zero_division` parameter to control this behavior.\n",
      "  _warn_prf(average, modifier, msg_start, len(result))\n"
     ]
    },
    {
     "name": "stdout",
     "output_type": "stream",
     "text": [
      "ROC AUC Score: 0.5429292929292929\n"
     ]
    },
    {
     "data": {
      "image/png": "[encoded data removed]",
      "text/plain": [
       "<Figure size 432x288 with 1 Axes>"
      ]
     },
     "metadata": {
      "needs_background": "light"
     },
     "output_type": "display_data"
    }
   ],
   "source": [
    "evaluate_lag(3, test_data, predictor_3)"
   ]
  },
  {
   "cell_type": "code",
   "execution_count": 17,
   "id": "18b4761f",
   "metadata": {},
   "outputs": [
    {
     "name": "stdout",
     "output_type": "stream",
     "text": [
      "Evaluating Lag = 5\n",
      "Benchmark Performance\n",
      "Accuracy: 0.9378238341968912\n",
      "Precision: 0.0\n",
      "Recall: 0.0\n",
      "NN Performance\n",
      "Accuracy: 0.5647668393782384\n",
      "Precision: 0.10869565217391304\n",
      "Recall: 0.8333333333333334\n",
      "ROC AUC Score: 0.6406537753222837\n"
     ]
    },
    {
     "name": "stderr",
     "output_type": "stream",
     "text": [
      "/home/ec2-user/anaconda3/envs/pytorch_p36/lib/python3.6/site-packages/sklearn/metrics/_classification.py:1248: UndefinedMetricWarning: Precision is ill-defined and being set to 0.0 due to no predicted samples. Use `zero_division` parameter to control this behavior.\n",
      "  _warn_prf(average, modifier, msg_start, len(result))\n"
     ]
    },
    {
     "data": {
      "image/png": "[encoded data removed]",
      "text/plain": [
       "<Figure size 432x288 with 1 Axes>"
      ]
     },
     "metadata": {
      "needs_background": "light"
     },
     "output_type": "display_data"
    }
   ],
   "source": [
    "evaluate_lag(5, test_data, predictor_3)"
   ]
  },
  {
   "cell_type": "code",
   "execution_count": 18,
   "id": "b27aad93",
   "metadata": {},
   "outputs": [
    {
     "name": "stdout",
     "output_type": "stream",
     "text": [
      "Evaluating Lag = 10\n",
      "Benchmark Performance\n",
      "Accuracy: 0.926056338028169\n",
      "Precision: 0.0\n",
      "Recall: 0.0\n",
      "NN Performance\n",
      "Accuracy: 0.573943661971831\n",
      "Precision: 0.11538461538461539\n",
      "Recall: 0.7142857142857143\n",
      "ROC AUC Score: 0.6070975918884665\n"
     ]
    },
    {
     "name": "stderr",
     "output_type": "stream",
     "text": [
      "/home/ec2-user/anaconda3/envs/pytorch_p36/lib/python3.6/site-packages/sklearn/metrics/_classification.py:1248: UndefinedMetricWarning: Precision is ill-defined and being set to 0.0 due to no predicted samples. Use `zero_division` parameter to control this behavior.\n",
      "  _warn_prf(average, modifier, msg_start, len(result))\n"
     ]
    },
    {
     "data": {
      "image/png": "[encoded data removed]",
      "text/plain": [
       "<Figure size 432x288 with 1 Axes>"
      ]
     },
     "metadata": {
      "needs_background": "light"
     },
     "output_type": "display_data"
    }
   ],
   "source": [
    "evaluate_lag(10, test_data, predictor_3)"
   ]
  },
  {
   "cell_type": "code",
   "execution_count": 19,
   "id": "a98062d7",
   "metadata": {},
   "outputs": [],
   "source": [
    "predictor_3.delete_endpoint()\n",
    "predictor_5.delete_endpoint()\n",
    "predictor_10.delete_endpoint()"
   ]
  },
  {
   "cell_type": "code",
   "execution_count": null,
   "id": "c860468e",
   "metadata": {},
   "outputs": [],
   "source": []
  }
 ],
 "metadata": {
  "kernelspec": {
   "display_name": "FEM",
   "language": "python",
   "name": "fem"
  },
  "language_info": {
   "codemirror_mode": {
    "name": "ipython",
    "version": 3
   },
   "file_extension": ".py",
   "mimetype": "text/x-python",
   "name": "python",
   "nbconvert_exporter": "python",
   "pygments_lexer": "ipython3",
   "version": "3.7.4"
  }
 },
 "nbformat": 4,
 "nbformat_minor": 5
}
