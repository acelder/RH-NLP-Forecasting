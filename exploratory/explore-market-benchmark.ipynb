{
 "cells": [
  {
   "cell_type": "code",
   "execution_count": 9,
   "metadata": {},
   "outputs": [],
   "source": [
    "import os\n",
    "\n",
    "import pandas as pd\n",
    "import numpy as np\n",
    "import matplotlib.pyplot as plt\n",
    "import seaborn as sns\n",
    "\n",
    "%matplotlib inline"
   ]
  },
  {
   "cell_type": "markdown",
   "metadata": {},
   "source": [
    "### Load Data\n",
    "\n",
    "We have a list of stock tickers and the number of RobinHood accounts holding each at fifteen minute intervals. We'd ultimately like to link some measure of the retail popularity of each ticker on each day with each comment that mentions it. Before we can do that, we need to refine what we mean by \"retail popularity\" and set some performance baselines.\n",
    "\n",
    "The cells below will load the RobinHood data and save a table of the number of accounts holding each ticker on each day. "
   ]
  },
  {
   "cell_type": "code",
   "execution_count": 5,
   "metadata": {},
   "outputs": [],
   "source": [
    "# Load ticker and post data\n",
    "tickers = pd.read_csv('../../data/tabular/tickers.csv')\n",
    "\n",
    "posts = pd.read_csv('../../data/tabular/wsb_posts/cleaned posts.csv',\n",
    "                    index_col=0)\n",
    "\n",
    "posts['date'] = pd.to_datetime(posts['created_utc']).dt.date\n",
    "posts = posts.drop(columns=['created_utc'])"
   ]
  },
  {
   "cell_type": "code",
   "execution_count": 7,
   "metadata": {},
   "outputs": [
    {
     "name": "stdout",
     "output_type": "stream",
     "text": [
      "There are 3294 unqiue tickers mentioned in WSB comments.\n"
     ]
    }
   ],
   "source": [
    "# calculate the number of unique tickers present in the posts data\n",
    "unique_tickers = pd.Series(list(set(','.join(posts.tickers).split(','))), name='Ticker').sort_values()\n",
    "n_unique = unique_tickers.shape[0]\n",
    "print('There are {} unqiue tickers mentioned in WSB comments.'.format(n_unique))"
   ]
  },
  {
   "cell_type": "code",
   "execution_count": 14,
   "metadata": {},
   "outputs": [
    {
     "data": {
      "text/html": [
       "<div>\n",
       "<style scoped>\n",
       "    .dataframe tbody tr th:only-of-type {\n",
       "        vertical-align: middle;\n",
       "    }\n",
       "\n",
       "    .dataframe tbody tr th {\n",
       "        vertical-align: top;\n",
       "    }\n",
       "\n",
       "    .dataframe thead th {\n",
       "        text-align: right;\n",
       "    }\n",
       "</style>\n",
       "<table border=\"1\" class=\"dataframe\">\n",
       "  <thead>\n",
       "    <tr style=\"text-align: right;\">\n",
       "      <th></th>\n",
       "      <th>AAL</th>\n",
       "      <th>AAOI</th>\n",
       "      <th>AAP</th>\n",
       "      <th>AAPL</th>\n",
       "      <th>AAT</th>\n",
       "      <th>AAWW</th>\n",
       "      <th>AAXN</th>\n",
       "      <th>ABAX</th>\n",
       "      <th>ABB</th>\n",
       "      <th>ABBV</th>\n",
       "      <th>...</th>\n",
       "      <th>ZIV</th>\n",
       "      <th>ZIXI</th>\n",
       "      <th>ZLAB</th>\n",
       "      <th>ZNGA</th>\n",
       "      <th>ZSAN</th>\n",
       "      <th>ZTO</th>\n",
       "      <th>ZTS</th>\n",
       "      <th>ZUMZ</th>\n",
       "      <th>ZUO</th>\n",
       "      <th>ZYNE</th>\n",
       "    </tr>\n",
       "    <tr>\n",
       "      <th>date</th>\n",
       "      <th></th>\n",
       "      <th></th>\n",
       "      <th></th>\n",
       "      <th></th>\n",
       "      <th></th>\n",
       "      <th></th>\n",
       "      <th></th>\n",
       "      <th></th>\n",
       "      <th></th>\n",
       "      <th></th>\n",
       "      <th></th>\n",
       "      <th></th>\n",
       "      <th></th>\n",
       "      <th></th>\n",
       "      <th></th>\n",
       "      <th></th>\n",
       "      <th></th>\n",
       "      <th></th>\n",
       "      <th></th>\n",
       "      <th></th>\n",
       "      <th></th>\n",
       "    </tr>\n",
       "  </thead>\n",
       "  <tbody>\n",
       "    <tr>\n",
       "      <th>2018-05-02</th>\n",
       "      <td>3755</td>\n",
       "      <td>2711</td>\n",
       "      <td>302</td>\n",
       "      <td>150785</td>\n",
       "      <td>46</td>\n",
       "      <td>103</td>\n",
       "      <td>3164</td>\n",
       "      <td>37.0</td>\n",
       "      <td>1556</td>\n",
       "      <td>13307</td>\n",
       "      <td>...</td>\n",
       "      <td>192.0</td>\n",
       "      <td>2700</td>\n",
       "      <td>182</td>\n",
       "      <td>32425</td>\n",
       "      <td>1878</td>\n",
       "      <td>433</td>\n",
       "      <td>588</td>\n",
       "      <td>248</td>\n",
       "      <td>539</td>\n",
       "      <td>6127</td>\n",
       "    </tr>\n",
       "    <tr>\n",
       "      <th>2018-05-03</th>\n",
       "      <td>3775</td>\n",
       "      <td>2706</td>\n",
       "      <td>294</td>\n",
       "      <td>143747</td>\n",
       "      <td>47</td>\n",
       "      <td>109</td>\n",
       "      <td>3190</td>\n",
       "      <td>37.0</td>\n",
       "      <td>1550</td>\n",
       "      <td>13222</td>\n",
       "      <td>...</td>\n",
       "      <td>184.0</td>\n",
       "      <td>2726</td>\n",
       "      <td>181</td>\n",
       "      <td>32104</td>\n",
       "      <td>1826</td>\n",
       "      <td>430</td>\n",
       "      <td>609</td>\n",
       "      <td>251</td>\n",
       "      <td>546</td>\n",
       "      <td>6150</td>\n",
       "    </tr>\n",
       "    <tr>\n",
       "      <th>2018-05-04</th>\n",
       "      <td>3748</td>\n",
       "      <td>2719</td>\n",
       "      <td>289</td>\n",
       "      <td>141424</td>\n",
       "      <td>47</td>\n",
       "      <td>109</td>\n",
       "      <td>3174</td>\n",
       "      <td>36.0</td>\n",
       "      <td>1546</td>\n",
       "      <td>13214</td>\n",
       "      <td>...</td>\n",
       "      <td>183.0</td>\n",
       "      <td>2734</td>\n",
       "      <td>182</td>\n",
       "      <td>31734</td>\n",
       "      <td>1785</td>\n",
       "      <td>428</td>\n",
       "      <td>607</td>\n",
       "      <td>247</td>\n",
       "      <td>550</td>\n",
       "      <td>6140</td>\n",
       "    </tr>\n",
       "    <tr>\n",
       "      <th>2018-05-05</th>\n",
       "      <td>3748</td>\n",
       "      <td>2719</td>\n",
       "      <td>289</td>\n",
       "      <td>141436</td>\n",
       "      <td>47</td>\n",
       "      <td>109</td>\n",
       "      <td>3174</td>\n",
       "      <td>36.0</td>\n",
       "      <td>1546</td>\n",
       "      <td>13214</td>\n",
       "      <td>...</td>\n",
       "      <td>183.0</td>\n",
       "      <td>2734</td>\n",
       "      <td>182</td>\n",
       "      <td>31738</td>\n",
       "      <td>1785</td>\n",
       "      <td>428</td>\n",
       "      <td>607</td>\n",
       "      <td>247</td>\n",
       "      <td>550</td>\n",
       "      <td>6140</td>\n",
       "    </tr>\n",
       "    <tr>\n",
       "      <th>2018-05-06</th>\n",
       "      <td>3748</td>\n",
       "      <td>2719</td>\n",
       "      <td>289</td>\n",
       "      <td>141437</td>\n",
       "      <td>47</td>\n",
       "      <td>109</td>\n",
       "      <td>3174</td>\n",
       "      <td>36.0</td>\n",
       "      <td>1546</td>\n",
       "      <td>13214</td>\n",
       "      <td>...</td>\n",
       "      <td>183.0</td>\n",
       "      <td>2734</td>\n",
       "      <td>182</td>\n",
       "      <td>31749</td>\n",
       "      <td>1785</td>\n",
       "      <td>428</td>\n",
       "      <td>607</td>\n",
       "      <td>247</td>\n",
       "      <td>550</td>\n",
       "      <td>6140</td>\n",
       "    </tr>\n",
       "  </tbody>\n",
       "</table>\n",
       "<p>5 rows × 3036 columns</p>\n",
       "</div>"
      ],
      "text/plain": [
       "             AAL  AAOI  AAP    AAPL  AAT  AAWW  AAXN  ABAX   ABB   ABBV  ...  \\\n",
       "date                                                                     ...   \n",
       "2018-05-02  3755  2711  302  150785   46   103  3164  37.0  1556  13307  ...   \n",
       "2018-05-03  3775  2706  294  143747   47   109  3190  37.0  1550  13222  ...   \n",
       "2018-05-04  3748  2719  289  141424   47   109  3174  36.0  1546  13214  ...   \n",
       "2018-05-05  3748  2719  289  141436   47   109  3174  36.0  1546  13214  ...   \n",
       "2018-05-06  3748  2719  289  141437   47   109  3174  36.0  1546  13214  ...   \n",
       "\n",
       "              ZIV  ZIXI  ZLAB   ZNGA  ZSAN  ZTO  ZTS  ZUMZ  ZUO  ZYNE  \n",
       "date                                                                   \n",
       "2018-05-02  192.0  2700   182  32425  1878  433  588   248  539  6127  \n",
       "2018-05-03  184.0  2726   181  32104  1826  430  609   251  546  6150  \n",
       "2018-05-04  183.0  2734   182  31734  1785  428  607   247  550  6140  \n",
       "2018-05-05  183.0  2734   182  31738  1785  428  607   247  550  6140  \n",
       "2018-05-06  183.0  2734   182  31749  1785  428  607   247  550  6140  \n",
       "\n",
       "[5 rows x 3036 columns]"
      ]
     },
     "execution_count": 14,
     "metadata": {},
     "output_type": "execute_result"
    }
   ],
   "source": [
    "# Calculate the retail popularity for each ticker on each day. This will be a \n",
    "# n x m matrix where n is number of days and m is number of accounts holding\n",
    "\n",
    "popularity_file = '../../data/tabular/accounts_holding_table.csv'\n",
    "\n",
    "if os.path.isfile(popularity_file):\n",
    "    popularity_df = pd.read_csv(popularity_file, index_col=0)\n",
    "    popularity_df.index = pd.to_datetime(popularity_df.index)\n",
    "else:\n",
    "    ticker = unique_tickers.iloc[0]\n",
    "\n",
    "    def aggregate_popularity(ticker):\n",
    "        rh_prefix = '../../data/tabular/popularity_export'\n",
    "        ticker_df = pd.read_csv('{}/{}.csv'.format(rh_prefix, ticker), \n",
    "                                parse_dates=[0])\n",
    "        ticker_df = (\n",
    "            ticker_df\n",
    "            .groupby(ticker_df.timestamp.rename('date').dt.date)\n",
    "            .last()\n",
    "            [['users_holding']]\n",
    "            .rename(columns={'users_holding': ticker})\n",
    "        )\n",
    "        return ticker_df\n",
    "\n",
    "\n",
    "    def load_popularities(tickers):\n",
    "        popularity_df = aggregate_popularity(tickers.iloc[0])\n",
    "\n",
    "        for idx, ticker in tickers[1:].iteritems():\n",
    "            next_ticker   = aggregate_popularity(ticker)\n",
    "            popularity_df = pd.merge(popularity_df,\n",
    "                                     next_ticker,\n",
    "                                     left_index=True, \n",
    "                                     right_index=True,\n",
    "                                     how='left')\n",
    "\n",
    "        return popularity_df\n",
    "\n",
    "    popularity_df = load_popularities(unique_tickers)\n",
    "\n",
    "    popularity_df.to_csv(popularity_file)\n",
    "popularity_df.head()"
   ]
  },
  {
   "cell_type": "markdown",
   "metadata": {},
   "source": [
    "### Summary of Raw Data\n",
    "\n",
    "Let's take a look at some summary statistics and distribution plots of the raw data. We're particularly interested in the stationarity of the aggregate distribution over time. The block below shows the total number of accounts in one plot and the mean, median, and standard deviation of log-accounts holding in the plot below it. \n",
    "\n",
    "Note that the number of accounts steadily increases throughout 2018 and 2019 before sharply increasing at the beginning of the COVID-19 pandemic in March of 2020. This behavior is matched in the mean log plot. Also note that the median and mean of the log data are close to equal throughout, indicating that the distribution is symmetric in log-space. The result of the shapiro tests over time shows that the data is not log-normally distributed because the p-value is effectively zero. This distribution is not stationary given that both the log mean and log standard deviation drift over time."
   ]
  },
  {
   "cell_type": "code",
   "execution_count": 16,
   "metadata": {},
   "outputs": [
    {
     "data": {
      "image/png": "[encoded data removed]",
      "text/plain": [
       "<Figure size 1728x576 with 3 Axes>"
      ]
     },
     "metadata": {
      "needs_background": "light"
     },
     "output_type": "display_data"
    }
   ],
   "source": [
    "# Plot the log total number of accounts over time as well as the mean, median and standard \n",
    "# deviation of the number of accounts holding over time.\n",
    "from scipy.stats import shapiro\n",
    "\n",
    "log_pop_df = np.log(popularity_df.fillna(0) + 1)\n",
    "\n",
    "aggregate_df = pd.DataFrame([\n",
    "    popularity_df.sum(axis=1).rename('TotalAccts'),\n",
    "    log_pop_df.mean(axis=1).rename('MeanLogHolding'),\n",
    "    log_pop_df.median(axis=1).rename('MedianLogHolding'),\n",
    "    log_pop_df.std(axis=1).rename('StDevLogHolding'),\n",
    "    log_pop_df.apply(lambda x: shapiro(x[~x.isna()])[1], axis=1).rename('ShapiroPValue')\n",
    "]).transpose()\n",
    "\n",
    "fig, ax = plt.subplots(3, 1, figsize = (24, 8))\n",
    "\n",
    "# plot total \n",
    "ax[0].plot(aggregate_df.index, aggregate_df['TotalAccts'])\n",
    "\n",
    "# plot log distribution statistics\n",
    "plot_cols = ['MeanLogHolding', 'MedianLogHolding', 'StDevLogHolding']\n",
    "ls = [ax[1].plot(aggregate_df.index, aggregate_df[col])[0] for col in plot_cols]\n",
    "ax[1].legend(ls, plot_cols)\n",
    "\n",
    "# plot log distribution shapiro wilk test p-value\n",
    "ax[2].plot(aggregate_df.index, aggregate_df['ShapiroPValue'])\n",
    "plt.show()"
   ]
  },
  {
   "cell_type": "markdown",
   "metadata": {},
   "source": [
    "### Rank Transformation and Binning\n",
    "\n",
    "Rather than trying to do a regression on poorly behaved data, let's define popularity based on rank at a point in time. From there we can start with a very simple binary classification problem: is a given stock in the top decile of popularity on RobinHood? If we can predict this, then perhaps we can expand the scope of the work in the future."
   ]
  },
  {
   "cell_type": "code",
   "execution_count": 17,
   "metadata": {},
   "outputs": [],
   "source": [
    "popularity_rank_df = popularity_df.fillna(0).rank(axis=1)\n",
    "decile = popularity_rank_df.quantile(0.9, axis=1)\n",
    "top_decile_indicator = (popularity_rank_df > decile.values.reshape(-1, 1)).astype(int)\n"
   ]
  },
  {
   "cell_type": "code",
   "execution_count": 21,
   "metadata": {},
   "outputs": [
    {
     "name": "stdout",
     "output_type": "stream",
     "text": [
      "Number of transitions per day: 1.0440097799511003\n",
      "Naive probability that a stock transitions on a given day: 0.0003169428597301458\n"
     ]
    }
   ],
   "source": [
    "# before we proceed, we should calculate the probability on any given day that a stock transitions \n",
    "# into or out of the top ten percent. This is a discrete state markov chain.\n",
    "\n",
    "# on average, one stock transitions into (and one out of) the top decile on a given day\n",
    "transitions_per_day = (top_decile_indicator > top_decile_indicator.shift(1)).sum(axis=1)\n",
    "print(f'Number of transitions per day: {transitions_per_day.mean()}')\n",
    "print(f'Naive probability that a stock transitions on a given day: {transitions_per_day.mean()/3294}')"
   ]
  },
  {
   "cell_type": "markdown",
   "metadata": {},
   "source": [
    "A very naive benchmark for our model will be an accuracy score of 0.03%. This is a very low number to beat so we'll also evaluate our sentiment models against a logistic regression model that uses market data. Three models will be fit with lags of 3, 5, and 10 days to compare to the sentiment model lags. These models will use the trailing seven day average change in trade volume and cumulative seven-day price return."
   ]
  },
  {
   "cell_type": "code",
   "execution_count": 49,
   "metadata": {},
   "outputs": [],
   "source": [
    "returns_df = pd.read_csv('../../data/tabular/returns.csv')\n",
    "volume_df = pd.read_csv('../../data/tabular/volume.csv')\n",
    "\n",
    "returns_df['Date'] = pd.to_datetime(volume_df['Date'])\n",
    "returns_df = returns_df.set_index('Date')\n",
    "returns_df = np.log(returns_df + 1)\n",
    "returns_df = (\n",
    "    returns_df\n",
    "    .rolling(7)\n",
    "    .sum()\n",
    "    .iloc[7:]\n",
    "    .pipe(lambda x: np.exp(x) - 1)\n",
    ")\n",
    "\n",
    "\n",
    "volume_df['Date'] = pd.to_datetime(volume_df['Date'])\n",
    "volume_df = volume_df.set_index('Date')\n",
    "volume_df = (\n",
    "    volume_df\n",
    "    .rolling(7)\n",
    "    .mean()\n",
    "    .iloc[7:]\n",
    "    .pipe(lambda x: np.log(1 + x))\n",
    ")\n",
    "\n",
    "lags = [3, 5, 10]\n",
    "returns_dfs = {lag: (returns_df\n",
    "                     .shift(lag)\n",
    "                     .dropna(axis=0, how='all')\n",
    "                     .dropna(axis=1, how='any')\n",
    "                     .pipe(lambda x: (x - x.mean(axis=0))/x.std(axis=0)))\n",
    "               for lag in lags}\n",
    "volume_dfs = {lag: (volume_df\n",
    "                    .shift(lag)\n",
    "                    .dropna(axis=0, how='all')\n",
    "                    .dropna(axis=1, how='any')\n",
    "                    .pipe(lambda x: (x - x.mean(axis=0))/x.std(axis=0)))\n",
    "              for lag in lags}"
   ]
  },
  {
   "cell_type": "code",
   "execution_count": 73,
   "metadata": {},
   "outputs": [],
   "source": [
    "depivot_volume_dfs = {lag: (volume_df\n",
    "                            .reset_index()\n",
    "                            .melt(id_vars='Date',\n",
    "                                  var_name='Ticker',\n",
    "                                  value_name='Volume'))\n",
    "                      for lag, volume_df in volume_dfs.items()}\n",
    "depivot_return_dfs = {lag: (returns_df\n",
    "                            .reset_index()\n",
    "                            .melt(id_vars='Date',\n",
    "                                  var_name='Ticker',\n",
    "                                  value_name='PriceReturn'))\n",
    "                      for lag, returns_df in returns_dfs.items()}\n",
    "\n",
    "depivot_features_dfs = {lag: (pd.merge(depivot_volume_dfs[lag], \n",
    "                                       depivot_return_dfs[lag], on=['Date', 'Ticker'])\n",
    "                              .pipe(lambda x: x.assign(Date = pd.to_datetime(x['Date']))))\n",
    "                        for lag in depivot_volume_dfs.keys()}"
   ]
  },
  {
   "cell_type": "code",
   "execution_count": 74,
   "metadata": {},
   "outputs": [
    {
     "data": {
      "text/html": [
       "<div>\n",
       "<style scoped>\n",
       "    .dataframe tbody tr th:only-of-type {\n",
       "        vertical-align: middle;\n",
       "    }\n",
       "\n",
       "    .dataframe tbody tr th {\n",
       "        vertical-align: top;\n",
       "    }\n",
       "\n",
       "    .dataframe thead th {\n",
       "        text-align: right;\n",
       "    }\n",
       "</style>\n",
       "<table border=\"1\" class=\"dataframe\">\n",
       "  <thead>\n",
       "    <tr style=\"text-align: right;\">\n",
       "      <th></th>\n",
       "      <th></th>\n",
       "      <th>Volume</th>\n",
       "      <th>PriceReturn</th>\n",
       "      <th>Transition</th>\n",
       "    </tr>\n",
       "    <tr>\n",
       "      <th>Date</th>\n",
       "      <th>Ticker</th>\n",
       "      <th></th>\n",
       "      <th></th>\n",
       "      <th></th>\n",
       "    </tr>\n",
       "  </thead>\n",
       "  <tbody>\n",
       "    <tr>\n",
       "      <th>2018-05-02</th>\n",
       "      <th>AAL</th>\n",
       "      <td>-0.140829</td>\n",
       "      <td>-0.890477</td>\n",
       "      <td>0</td>\n",
       "    </tr>\n",
       "    <tr>\n",
       "      <th>2018-05-03</th>\n",
       "      <th>AAL</th>\n",
       "      <td>-0.126147</td>\n",
       "      <td>-0.817338</td>\n",
       "      <td>0</td>\n",
       "    </tr>\n",
       "    <tr>\n",
       "      <th>2018-05-04</th>\n",
       "      <th>AAL</th>\n",
       "      <td>-0.126218</td>\n",
       "      <td>-0.701374</td>\n",
       "      <td>0</td>\n",
       "    </tr>\n",
       "    <tr>\n",
       "      <th>2018-05-07</th>\n",
       "      <th>AAL</th>\n",
       "      <td>-0.084224</td>\n",
       "      <td>-0.930271</td>\n",
       "      <td>0</td>\n",
       "    </tr>\n",
       "    <tr>\n",
       "      <th>2018-05-08</th>\n",
       "      <th>AAL</th>\n",
       "      <td>-0.069620</td>\n",
       "      <td>-0.755935</td>\n",
       "      <td>0</td>\n",
       "    </tr>\n",
       "  </tbody>\n",
       "</table>\n",
       "</div>"
      ],
      "text/plain": [
       "                     Volume  PriceReturn  Transition\n",
       "Date       Ticker                                   \n",
       "2018-05-02 AAL    -0.140829    -0.890477           0\n",
       "2018-05-03 AAL    -0.126147    -0.817338           0\n",
       "2018-05-04 AAL    -0.126218    -0.701374           0\n",
       "2018-05-07 AAL    -0.084224    -0.930271           0\n",
       "2018-05-08 AAL    -0.069620    -0.755935           0"
      ]
     },
     "execution_count": 74,
     "metadata": {},
     "output_type": "execute_result"
    }
   ],
   "source": [
    "# join transition indicator to the depivoted feature\n",
    "transitions_df = (top_decile_indicator > top_decile_indicator.shift(1)).astype(int)\n",
    "transitions_df = (\n",
    "    transitions_df\n",
    "    .reset_index()\n",
    "    .melt(id_vars='date', var_name = 'Ticker', value_name = 'Transition')\n",
    "    .rename(columns={'date': 'Date'})\n",
    ")\n",
    "transitions_df['Date'] = pd.to_datetime(transitions_df['Date'])\n",
    "\n",
    "depivot_features_dfs = {lag: (pd.merge(depivot_features_df, transitions_df, on = ['Date', 'Ticker'])\n",
    "                              .set_index(['Date', 'Ticker']))\n",
    "                        for lag, depivot_features_df in depivot_features_dfs.items()}\n",
    "\n",
    "depivot_features_dfs[3].head()"
   ]
  },
  {
   "cell_type": "code",
   "execution_count": 75,
   "metadata": {},
   "outputs": [],
   "source": [
    "assert not depivot_features_df[3].isna().any().any()\n",
    "assert not depivot_features_df[5].isna().any().any()\n",
    "assert not depivot_features_df[10].isna().any().any()"
   ]
  },
  {
   "cell_type": "code",
   "execution_count": 180,
   "metadata": {
    "tags": []
   },
   "outputs": [],
   "source": [
    "from sklearn.model_selection import train_test_split\n",
    "from sklearn.linear_model import LogisticRegression\n",
    "\n",
    "splits = {lag: train_test_split(depivot_features_df[['Volume', 'PriceReturn']],\n",
    "                                depivot_features_df['Transition'],test_size=0.1)\n",
    "          for lag, depivot_features_df in depivot_features_dfs.items()}\n",
    "\n"
   ]
  },
  {
   "cell_type": "code",
   "execution_count": 144,
   "metadata": {},
   "outputs": [],
   "source": [
    "from sklearn.linear_model import LogisticRegression\n",
    "from sklearn.metrics import precision_score, accuracy_score, roc_auc_score, recall_score\n",
    "\n",
    "metrics = {}\n",
    "\n",
    "for lag, split_set in splits.items():\n",
    "    \n",
    "    X_train, X_test, y_train, y_test = split_set\n",
    "    clf = LogisticRegression(random_state=0, solver='lbfgs').fit(X_train, y_train)\n",
    "    yh_test = clf.predict_proba(X_test)\n",
    "    result_dict = {'clf': clf, \n",
    "                   'precision': precision_score(y_test, (yh_test > 0.5)[:,0]),\n",
    "                   'accuracy': accuracy_score(y_test, (yh_test > 0.5)[:,0]),\n",
    "                   'recall': recall_score(y_test, (yh_test > 0.5)[:,0]),\n",
    "                   'roc_auc': roc_auc_score(y_test, (yh_test > 0.5)[:,0])}\n",
    "    metrics[lag] = result_dict\n",
    "    \n",
    "\n",
    "# X_train = split_sets[3][0][0][['Volume', 'PriceReturn']]\n",
    "# y_train = split_sets[3][0][0]['Transition']\n",
    "# X_test = split_sets[3][0][1][['Volume', 'PriceReturn']]\n",
    "# y_test = split_sets[3][0][1]['Transition']\n",
    "\n",
    "# logistic_clf = LogisticRegression(random_state=0, solver = 'lbfgs').fit(X_train, y_train)\n",
    "# yh_train = logistic_clf.predict_proba(X_train)\n",
    "# yh_test = logistic_clf.predict_proba(X_test)"
   ]
  },
  {
   "cell_type": "code",
   "execution_count": 145,
   "metadata": {},
   "outputs": [
    {
     "data": {
      "text/plain": [
       "{3: {'clf': LogisticRegression(random_state=0),\n",
       "  'precision': 0.00039910128303671734,\n",
       "  'accuracy': 0.00039910128303671734,\n",
       "  'recall': 1.0,\n",
       "  'roc_auc': 0.5},\n",
       " 5: {'clf': LogisticRegression(random_state=0),\n",
       "  'precision': 0.0005395258085496363,\n",
       "  'accuracy': 0.0005395258085496363,\n",
       "  'recall': 1.0,\n",
       "  'roc_auc': 0.5},\n",
       " 10: {'clf': LogisticRegression(random_state=0),\n",
       "  'precision': 0.0005025719860462366,\n",
       "  'accuracy': 0.0005025719860462366,\n",
       "  'recall': 1.0,\n",
       "  'roc_auc': 0.5}}"
      ]
     },
     "execution_count": 145,
     "metadata": {},
     "output_type": "execute_result"
    }
   ],
   "source": [
    "metrics"
   ]
  },
  {
   "cell_type": "code",
   "execution_count": 127,
   "metadata": {},
   "outputs": [
    {
     "data": {
      "text/plain": [
       "<sklearn.metrics._plot.roc_curve.RocCurveDisplay at 0x7fa3d8eac7b8>"
      ]
     },
     "execution_count": 127,
     "metadata": {},
     "output_type": "execute_result"
    },
    {
     "data": {
      "image/png": "[encoded data removed]",
      "text/plain": [
       "<Figure size 432x288 with 1 Axes>"
      ]
     },
     "metadata": {
      "needs_background": "light"
     },
     "output_type": "display_data"
    }
   ],
   "source": [
    "from sklearn import metrics\n",
    "\n",
    "X_train = split_sets[3][0][0][['Volume', 'PriceReturn']]\n",
    "y_train = split_sets[3][0][0]['Transition']\n",
    "X_test = split_sets[3][0][1][['Volume', 'PriceReturn']]\n",
    "y_test = split_sets[3][0][1]['Transition']\n",
    "\n",
    "logistic_clf = LogisticRegression(random_state=0, solver = 'lbfgs').fit(X_train, y_train)\n",
    "yh_train = logistic_clf.predict_proba(X_train)\n",
    "yh_test = logistic_clf.predict_proba(X_test)\n",
    "\n",
    "\n",
    "metrics.plot_roc_curve(logistic_clf, X_test, y_test) "
   ]
  },
  {
   "cell_type": "markdown",
   "metadata": {},
   "source": [
    "We can see that the market data classifiers are very poor but slightly better than the naive classifier. We will seek to beat these values with sentiment models."
   ]
  },
  {
   "cell_type": "code",
   "execution_count": 192,
   "metadata": {},
   "outputs": [],
   "source": [
    "n_transitions = depivot_features_dfs[3].Transition.sum()\n",
    "resampled_depivot_features = {\n",
    "    lag: (pd.concat(\n",
    "        (split[0][split[2] == 0].sample(n_transitions),\n",
    "         split[0][split[2]== 1]))\n",
    "          .sample(frac=1))\n",
    "    for lag, split in splits.items()}\n",
    "\n",
    "resampled_depivot_features = {lag: (df, depivot_features_dfs[lag].loc[df.index, 'Transition'])\n",
    "                              for lag, df in resampled_depivot_features.items()}\n",
    "# resampled_splits = {lag: train_test_split(df[['Volume', 'PriceReturn']],\n",
    "#                                           df['Transition'],test_size=0.0)\n",
    "#                     for lag, df in resampled_depivot_features.items()}"
   ]
  },
  {
   "cell_type": "code",
   "execution_count": 196,
   "metadata": {},
   "outputs": [
    {
     "data": {
      "text/plain": [
       "{3: {'clf': LogisticRegression(random_state=0),\n",
       "  'precision': 0.0003649450048152466,\n",
       "  'accuracy': 0.27096759888842903,\n",
       "  'recall': 0.5294117647058824,\n",
       "  'roc_auc': 0.4001247057431627},\n",
       " 5: {'clf': LogisticRegression(random_state=0),\n",
       "  'precision': 0.00039893208948353637,\n",
       "  'accuracy': 0.2775675515875362,\n",
       "  'recall': 0.6,\n",
       "  'roc_auc': 0.43870629034524067},\n",
       " 10: {'clf': LogisticRegression(random_state=0),\n",
       "  'precision': 0.0004042953920186173,\n",
       "  'accuracy': 0.2506282149825578,\n",
       "  'recall': 0.640625,\n",
       "  'roc_auc': 0.4455343278615794}}"
      ]
     },
     "execution_count": 196,
     "metadata": {},
     "output_type": "execute_result"
    }
   ],
   "source": [
    "resampled_metrics = {}\n",
    "\n",
    "for lag, split_set in resampled_depivot_features.items():\n",
    "    \n",
    "    X_train, y_train = split_set\n",
    "    _, X_test, _, y_test = splits[lag]\n",
    "    clf = LogisticRegression(random_state=0, solver='lbfgs').fit(X_train, y_train)\n",
    "    yh_test = clf.predict_proba(X_test)\n",
    "    result_dict = {'clf': clf, \n",
    "                   'precision': precision_score(y_test, (yh_test > 0.5)[:,0]),\n",
    "                   'accuracy': accuracy_score(y_test, (yh_test > 0.5)[:,0]),\n",
    "                   'recall': recall_score(y_test, (yh_test > 0.5)[:,0]),\n",
    "                   'roc_auc': roc_auc_score(y_test, (yh_test > 0.5)[:,0])}\n",
    "    resampled_metrics[lag] = result_dict\n",
    "resampled_metrics"
   ]
  },
  {
   "cell_type": "code",
   "execution_count": 200,
   "metadata": {},
   "outputs": [
    {
     "data": {
      "text/plain": [
       "<sklearn.metrics._plot.roc_curve.RocCurveDisplay at 0x7fa3d92ec048>"
      ]
     },
     "execution_count": 200,
     "metadata": {},
     "output_type": "execute_result"
    },
    {
     "data": {
      "image/png": "[encoded data removed]",
      "text/plain": [
       "<Figure size 432x288 with 1 Axes>"
      ]
     },
     "metadata": {
      "needs_background": "light"
     },
     "output_type": "display_data"
    }
   ],
   "source": [
    "from sklearn.metrics import plot_roc_curve\n",
    "lag = 3\n",
    "plot_roc_curve(resampled_metrics[lag]['clf'], splits[lag][1], splits[lag][3]) "
   ]
  },
  {
   "cell_type": "code",
   "execution_count": 201,
   "metadata": {},
   "outputs": [
    {
     "data": {
      "text/plain": [
       "<sklearn.metrics._plot.roc_curve.RocCurveDisplay at 0x7fa3d9591d68>"
      ]
     },
     "execution_count": 201,
     "metadata": {},
     "output_type": "execute_result"
    },
    {
     "data": {
      "image/png": "[encoded data removed]",
      "text/plain": [
       "<Figure size 432x288 with 1 Axes>"
      ]
     },
     "metadata": {
      "needs_background": "light"
     },
     "output_type": "display_data"
    }
   ],
   "source": [
    "lag = 5\n",
    "plot_roc_curve(resampled_metrics[lag]['clf'], splits[lag][1], splits[lag][3]) "
   ]
  },
  {
   "cell_type": "code",
   "execution_count": 202,
   "metadata": {},
   "outputs": [
    {
     "data": {
      "text/plain": [
       "<sklearn.metrics._plot.roc_curve.RocCurveDisplay at 0x7fa3c9cbb828>"
      ]
     },
     "execution_count": 202,
     "metadata": {},
     "output_type": "execute_result"
    },
    {
     "data": {
      "image/png": "[encoded data removed]",
      "text/plain": [
       "<Figure size 432x288 with 1 Axes>"
      ]
     },
     "metadata": {
      "needs_background": "light"
     },
     "output_type": "display_data"
    }
   ],
   "source": [
    "lag = 10\n",
    "plot_roc_curve(resampled_metrics[lag]['clf'], splits[lag][1], splits[lag][3]) "
   ]
  },
  {
   "cell_type": "code",
   "execution_count": null,
   "metadata": {},
   "outputs": [],
   "source": []
  }
 ],
 "metadata": {
  "kernelspec": {
   "display_name": "Python (py37)",
   "language": "python",
   "name": "py37"
  },
  "language_info": {
   "codemirror_mode": {
    "name": "ipython",
    "version": 3
   },
   "file_extension": ".py",
   "mimetype": "text/x-python",
   "name": "python",
   "nbconvert_exporter": "python",
   "pygments_lexer": "ipython3",
   "version": "3.7.2"
  }
 },
 "nbformat": 4,
 "nbformat_minor": 4
}
